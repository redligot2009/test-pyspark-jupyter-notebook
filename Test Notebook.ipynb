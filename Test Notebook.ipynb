{
 "cells": [
  {
   "cell_type": "code",
   "execution_count": 21,
   "metadata": {},
   "outputs": [],
   "source": [
    "try:\n",
    "    spark.stop()\n",
    "except:\n",
    "    pass"
   ]
  },
  {
   "cell_type": "code",
   "execution_count": 10,
   "id": "2304d3bb",
   "metadata": {
    "scrolled": true
   },
   "outputs": [],
   "source": [
    "import findspark\n",
    "\n",
    "findspark.init()"
   ]
  },
  {
   "cell_type": "code",
   "execution_count": 11,
   "metadata": {},
   "outputs": [
    {
     "output_type": "stream",
     "name": "stdout",
     "text": [
      "+--------+---------+-----------+-------------+-------------+-------------+-------------+---------+----------+------------------+------------------+------------------+------------------+--------------+---------------+-----------+-------------------+-----------------+\n|policyID|statecode|     county|eq_site_limit|hu_site_limit|fl_site_limit|fr_site_limit| tiv_2011|  tiv_2012|eq_site_deductible|hu_site_deductible|fl_site_deductible|fr_site_deductible|point_latitude|point_longitude|       line|       construction|point_granularity|\n+--------+---------+-----------+-------------+-------------+-------------+-------------+---------+----------+------------------+------------------+------------------+------------------+--------------+---------------+-----------+-------------------+-----------------+\n|  119736|       FL|CLAY COUNTY|       498960|       498960|       498960|       498960|   498960|  792148.9|                 0|            9979.2|                 0|                 0|     30.102261|     -81.711777|Residential|            Masonry|                1|\n|  448094|       FL|CLAY COUNTY|    1322376.3|    1322376.3|    1322376.3|    1322376.3|1322376.3|1438163.57|                 0|                 0|                 0|                 0|     30.063936|     -81.707664|Residential|            Masonry|                3|\n|  206893|       FL|CLAY COUNTY|     190724.4|     190724.4|     190724.4|     190724.4| 190724.4| 192476.78|                 0|                 0|                 0|                 0|     30.089579|     -81.700455|Residential|               Wood|                1|\n|  333743|       FL|CLAY COUNTY|            0|     79520.76|            0|            0| 79520.76|  86854.48|                 0|                 0|                 0|                 0|     30.063236|     -81.707703|Residential|               Wood|                3|\n|  172534|       FL|CLAY COUNTY|            0|     254281.5|            0|     254281.5| 254281.5| 246144.49|                 0|                 0|                 0|                 0|     30.060614|     -81.702675|Residential|               Wood|                1|\n|  785275|       FL|CLAY COUNTY|            0|    515035.62|            0|            0|515035.62| 884419.17|                 0|                 0|                 0|                 0|     30.063236|     -81.707703|Residential|            Masonry|                3|\n|  995932|       FL|CLAY COUNTY|            0|     19260000|            0|            0| 19260000|  20610000|                 0|                 0|                 0|                 0|     30.102226|     -81.713882| Commercial|Reinforced Concrete|                1|\n|  223488|       FL|CLAY COUNTY|       328500|       328500|       328500|       328500|   328500| 348374.25|                 0|             16425|                 0|                 0|     30.102217|     -81.707146|Residential|               Wood|                1|\n|  433512|       FL|CLAY COUNTY|       315000|       315000|       315000|       315000|   315000| 265821.57|                 0|             15750|                 0|                 0|     30.118774|     -81.704613|Residential|               Wood|                1|\n|  142071|       FL|CLAY COUNTY|       705600|       705600|       705600|       705600|   705600|1010842.56|             14112|             35280|                 0|                 0|     30.100628|     -81.703751|Residential|            Masonry|                1|\n|  253816|       FL|CLAY COUNTY|     831498.3|     831498.3|     831498.3|     831498.3| 831498.3|1117791.48|                 0|                 0|                 0|                 0|      30.10216|     -81.719444|Residential|            Masonry|                1|\n|  894922|       FL|CLAY COUNTY|            0|     24059.09|            0|            0| 24059.09|  33952.19|                 0|                 0|                 0|                 0|     30.095957|     -81.695099|Residential|               Wood|                1|\n|  422834|       FL|CLAY COUNTY|            0|     48115.94|            0|            0| 48115.94|  66755.39|                 0|                 0|                 0|                 0|     30.100073|     -81.739822|Residential|               Wood|                1|\n|  582721|       FL|CLAY COUNTY|            0|     28869.12|            0|            0| 28869.12|  42826.99|                 0|                 0|                 0|                 0|      30.09248|     -81.725167|Residential|               Wood|                1|\n|  842700|       FL|CLAY COUNTY|            0|     56135.64|            0|            0| 56135.64|   50656.8|                 0|                 0|                 0|                 0|     30.101356|     -81.726248|Residential|               Wood|                1|\n|  874333|       FL|CLAY COUNTY|            0|     48115.94|            0|            0| 48115.94|  67905.07|                 0|                 0|                 0|                 0|     30.113743|     -81.727463|Residential|               Wood|                1|\n|  580146|       FL|CLAY COUNTY|            0|     48115.94|            0|            0| 48115.94|   66938.9|                 0|                 0|                 0|                 0|     30.121655|     -81.732391|Residential|               Wood|                3|\n|  456149|       FL|CLAY COUNTY|            0|     80192.49|            0|            0| 80192.49|  86421.04|                 0|                 0|                 0|                 0|     30.109537|     -81.741661|Residential|               Wood|                1|\n|  767862|       FL|CLAY COUNTY|            0|     48115.94|            0|            0| 48115.94|   73798.5|                 0|                 0|                 0|                 0|      30.11824|     -81.745335|Residential|               Wood|                3|\n|  353022|       FL|CLAY COUNTY|            0|     60946.79|            0|            0| 60946.79|  62467.29|                 0|                 0|                 0|                 0|     30.065799|     -81.717416|Residential|               Wood|                1|\n+--------+---------+-----------+-------------+-------------+-------------+-------------+---------+----------+------------------+------------------+------------------+------------------+--------------+---------------+-----------+-------------------+-----------------+\nonly showing top 20 rows\n\nroot\n |-- policyID: string (nullable = true)\n |-- statecode: string (nullable = true)\n |-- county: string (nullable = true)\n |-- eq_site_limit: string (nullable = true)\n |-- hu_site_limit: string (nullable = true)\n |-- fl_site_limit: string (nullable = true)\n |-- fr_site_limit: string (nullable = true)\n |-- tiv_2011: string (nullable = true)\n |-- tiv_2012: string (nullable = true)\n |-- eq_site_deductible: string (nullable = true)\n |-- hu_site_deductible: string (nullable = true)\n |-- fl_site_deductible: string (nullable = true)\n |-- fr_site_deductible: string (nullable = true)\n |-- point_latitude: string (nullable = true)\n |-- point_longitude: string (nullable = true)\n |-- line: string (nullable = true)\n |-- construction: string (nullable = true)\n |-- point_granularity: string (nullable = true)\n\n"
     ]
    }
   ],
   "source": [
    "import pyspark\n",
    "\n",
    "from pyspark.sql import SparkSession\n",
    "\n",
    "spark = SparkSession.builder.getOrCreate()\n",
    "\n",
    "df = spark.read.option(\"header\",True).csv(\"./FL_insurance_sample.csv\")\n",
    "\n",
    "df.show()\n",
    "df.printSchema()"
   ]
  },
  {
   "cell_type": "code",
   "execution_count": 12,
   "metadata": {},
   "outputs": [
    {
     "output_type": "stream",
     "name": "stdout",
     "text": [
      "+--------+---------+-----------+\n|policyID|statecode|     county|\n+--------+---------+-----------+\n|  119736|       FL|CLAY COUNTY|\n|  448094|       FL|CLAY COUNTY|\n|  206893|       FL|CLAY COUNTY|\n|  333743|       FL|CLAY COUNTY|\n|  172534|       FL|CLAY COUNTY|\n|  785275|       FL|CLAY COUNTY|\n|  995932|       FL|CLAY COUNTY|\n|  223488|       FL|CLAY COUNTY|\n|  433512|       FL|CLAY COUNTY|\n|  142071|       FL|CLAY COUNTY|\n+--------+---------+-----------+\nonly showing top 10 rows\n\n"
     ]
    }
   ],
   "source": [
    "df.select(\"policyID\",\"statecode\",\"county\").show(10)"
   ]
  },
  {
   "cell_type": "code",
   "execution_count": 13,
   "metadata": {},
   "outputs": [
    {
     "output_type": "stream",
     "name": "stdout",
     "text": [
      "+---------+---+\n",
      "|     name| id|\n",
      "+---------+---+\n",
      "|   Pirate|  1|\n",
      "|   Monkey|  2|\n",
      "|    Ninja|  3|\n",
      "|Spaghetti|  4|\n",
      "+---------+---+\n",
      "\n",
      "+-----------+---+\n",
      "|       name| id|\n",
      "+-----------+---+\n",
      "|   Rutabaga|  1|\n",
      "|     Pirate|  2|\n",
      "|      Ninja|  3|\n",
      "|Darth Vader|  4|\n",
      "+-----------+---+\n",
      "\n"
     ]
    }
   ],
   "source": [
    "valuesA = [('Pirate',1),('Monkey',2),('Ninja',3),('Spaghetti',4)]\n",
    "TableA = spark.createDataFrame(valuesA,['name','id'])\n",
    " \n",
    "valuesB = [('Rutabaga',1),('Pirate',2),('Ninja',3),('Darth Vader',4)]\n",
    "TableB = spark.createDataFrame(valuesB,['name','id'])\n",
    " \n",
    "TableA.show()\n",
    "TableB.show()"
   ]
  },
  {
   "cell_type": "code",
   "execution_count": 14,
   "metadata": {},
   "outputs": [],
   "source": [
    "ta = TableA.alias('ta')\n",
    "tb = TableB.alias('tb')"
   ]
  },
  {
   "cell_type": "code",
   "execution_count": 15,
   "metadata": {},
   "outputs": [
    {
     "output_type": "stream",
     "name": "stdout",
     "text": [
      "+------+---+------+---+\n|  name| id|  name| id|\n+------+---+------+---+\n| Ninja|  3| Ninja|  3|\n|Pirate|  1|Pirate|  2|\n+------+---+------+---+\n\n"
     ]
    }
   ],
   "source": [
    "inner_join = ta.join(tb, ta.name == tb.name)\n",
    "inner_join.show()"
   ]
  },
  {
   "cell_type": "code",
   "execution_count": 16,
   "metadata": {},
   "outputs": [
    {
     "output_type": "stream",
     "name": "stdout",
     "text": [
      "+---------+---+------+----+\n|     name| id|  name|  id|\n+---------+---+------+----+\n|Spaghetti|  4|  null|null|\n|    Ninja|  3| Ninja|   3|\n|   Pirate|  1|Pirate|   2|\n|   Monkey|  2|  null|null|\n+---------+---+------+----+\n\n"
     ]
    }
   ],
   "source": [
    "left_join = ta.join(tb, ta.name == tb.name,how='left')\n",
    "left_join.show()"
   ]
  },
  {
   "cell_type": "code",
   "execution_count": 18,
   "metadata": {},
   "outputs": [
    {
     "output_type": "stream",
     "name": "stdout",
     "text": [
      "+---------+---+----+----+\n|     name| id|name|  id|\n+---------+---+----+----+\n|Spaghetti|  4|null|null|\n|   Monkey|  2|null|null|\n+---------+---+----+----+\n\n"
     ]
    }
   ],
   "source": [
    "from pyspark.sql.functions import col\n",
    "left_join = ta.join(tb, ta.name == tb.name,how='left')\n",
    "left_join.filter(col('tb.name').isNull()).show()"
   ]
  },
  {
   "cell_type": "code",
   "execution_count": 19,
   "metadata": {},
   "outputs": [
    {
     "output_type": "stream",
     "name": "stdout",
     "text": [
      "+------+----+-----------+---+\n|  name|  id|       name| id|\n+------+----+-----------+---+\n|  null|null|   Rutabaga|  1|\n| Ninja|   3|      Ninja|  3|\n|Pirate|   1|     Pirate|  2|\n|  null|null|Darth Vader|  4|\n+------+----+-----------+---+\n\n"
     ]
    }
   ],
   "source": [
    "right_join = ta.join(tb, ta.name == tb.name,how='right')\n",
    "right_join.show()"
   ]
  },
  {
   "cell_type": "code",
   "execution_count": 20,
   "metadata": {},
   "outputs": [
    {
     "output_type": "stream",
     "name": "stdout",
     "text": [
      "+---------+----+-----------+----+\n|     name|  id|       name|  id|\n+---------+----+-----------+----+\n|     null|null|   Rutabaga|   1|\n|Spaghetti|   4|       null|null|\n|    Ninja|   3|      Ninja|   3|\n|   Pirate|   1|     Pirate|   2|\n|   Monkey|   2|       null|null|\n|     null|null|Darth Vader|   4|\n+---------+----+-----------+----+\n\n"
     ]
    }
   ],
   "source": [
    "full_outer_join = ta.join(tb, ta.name == tb.name,how='full') \n",
    "full_outer_join.show()"
   ]
  }
 ],
 "metadata": {
  "kernelspec": {
   "name": "python395jvsc74a57bd063fd5069d213b44bf678585dea6b12cceca9941eaf7f819626cde1f2670de90d",
   "display_name": "Python 3.9.5 64-bit"
  },
  "language_info": {
   "codemirror_mode": {
    "name": "ipython",
    "version": 3
   },
   "file_extension": ".py",
   "mimetype": "text/x-python",
   "name": "python",
   "nbconvert_exporter": "python",
   "pygments_lexer": "ipython3",
   "version": "3.9.5"
  },
  "metadata": {
   "interpreter": {
    "hash": "63fd5069d213b44bf678585dea6b12cceca9941eaf7f819626cde1f2670de90d"
   }
  }
 },
 "nbformat": 4,
 "nbformat_minor": 5
}